{
  "nbformat": 4,
  "nbformat_minor": 0,
  "metadata": {
    "colab": {
      "provenance": [],
      "authorship_tag": "ABX9TyNBE7nTmgU4hqzoHkNHkukW",
      "include_colab_link": true
    },
    "kernelspec": {
      "name": "python3",
      "display_name": "Python 3"
    },
    "language_info": {
      "name": "python"
    }
  },
  "cells": [
    {
      "cell_type": "markdown",
      "metadata": {
        "id": "view-in-github",
        "colab_type": "text"
      },
      "source": [
        "<a href=\"https://colab.research.google.com/github/DJ2123/DSA-58010/blob/main/Activity%207.ipynb\" target=\"_parent\"><img src=\"https://colab.research.google.com/assets/colab-badge.svg\" alt=\"Open In Colab\"/></a>"
      ]
    },
    {
      "cell_type": "code",
      "execution_count": 2,
      "metadata": {
        "colab": {
          "base_uri": "https://localhost:8080/"
        },
        "id": "zWEyfVW0nsv-",
        "outputId": "5362b4c0-6af7-4f7a-f980-dc0404158704"
      },
      "outputs": [
        {
          "output_type": "stream",
          "name": "stdout",
          "text": [
            "{'E': ['I', 'J', 'K', 'M'], 'F': ['I', 'J', 'K', 'P'], 'H': ['I', 'J', 'K'], 'J': ['E', 'F', 'H'], 'K': ['E', 'F', 'H'], 'M': ['E'], 'P': ['F']}\n"
          ]
        }
      ],
      "source": [
        "G28 = {\n",
        "    'E' : ['I','J','K','M'],\n",
        "    'F' : ['I','J','K','P'],\n",
        "    'H' : ['I','J','K'],\n",
        "    'J' : ['E','F','H'],\n",
        "    'K' : ['E','F','H'],\n",
        "    'M' : ['E'],\n",
        "    'P' : ['F']\n",
        "}\n",
        "print(G28)"
      ]
    }
  ]
}