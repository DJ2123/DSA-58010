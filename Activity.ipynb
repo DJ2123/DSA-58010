{
  "nbformat": 4,
  "nbformat_minor": 0,
  "metadata": {
    "colab": {
      "provenance": [],
      "authorship_tag": "ABX9TyOhUyoNvhjGMR96D8Dl6DzL",
      "include_colab_link": true
    },
    "kernelspec": {
      "name": "python3",
      "display_name": "Python 3"
    },
    "language_info": {
      "name": "python"
    }
  },
  "cells": [
    {
      "cell_type": "markdown",
      "metadata": {
        "id": "view-in-github",
        "colab_type": "text"
      },
      "source": [
        "<a href=\"https://colab.research.google.com/github/DJ2123/DSA-58010/blob/main/Activity.ipynb\" target=\"_parent\"><img src=\"https://colab.research.google.com/assets/colab-badge.svg\" alt=\"Open In Colab\"/></a>"
      ]
    },
    {
      "cell_type": "code",
      "execution_count": 25,
      "metadata": {
        "colab": {
          "base_uri": "https://localhost:8080/"
        },
        "id": "WUvpRxiv0YCg",
        "outputId": "f67be960-dc73-40ab-b47b-7b80498b5807"
      },
      "outputs": [
        {
          "output_type": "stream",
          "name": "stdout",
          "text": [
            "[1, 2, 3, 4, 5, 6, 7, 8, 9, 10]\n",
            "55\n"
          ]
        }
      ],
      "source": [
        "#1 Write a Python program to create an array of 10 integers and display the array items. Access individual elements through indexes and compute for the sum.\n",
        "numbers = [1,2,3,4,5,6,7,8,9,10] \n",
        "sum = 0\n",
        "for x in numbers:\n",
        "  sum += x \n",
        "\n",
        "print (numbers)\n",
        "print (sum)"
      ]
    },
    {
      "cell_type": "code",
      "source": [
        "#2 Write a Python program to append a new item to the end of the array. Original array: numbers = [1, 2, 3, 4, 5, 6, 7, 8, 9, 10]\n",
        "\n",
        "numbers = [1, 2, 3, 4, 5, 6, 7, 8, 9, 10]\n",
        "numbers.append(11)\n",
        "print (numbers)"
      ],
      "metadata": {
        "colab": {
          "base_uri": "https://localhost:8080/"
        },
        "id": "75ZUxKTNLZF0",
        "outputId": "f98f3588-ce26-4941-b096-a389c078f788"
      },
      "execution_count": null,
      "outputs": [
        {
          "output_type": "stream",
          "name": "stdout",
          "text": [
            "[1, 2, 3, 4, 5, 6, 7, 8, 9, 10, 11]\n"
          ]
        }
      ]
    },
    {
      "cell_type": "code",
      "source": [
        "#3 Write a Python program to insert a new item before the second element in an existing array. Original array: numbers = [1, 2, 3, 4, 5, 6, 7, 8, 9, 10]\n",
        "\n",
        "numbers = [1, 2, 3, 4, 5, 6, 7, 8, 9, 10]\n",
        "numbers.insert(1,2)\n",
        "print (numbers)"
      ],
      "metadata": {
        "colab": {
          "base_uri": "https://localhost:8080/"
        },
        "id": "p_9otgXyLbaG",
        "outputId": "9892b57e-a08a-42bd-e6c0-f88ffeabcbaf"
      },
      "execution_count": null,
      "outputs": [
        {
          "output_type": "stream",
          "name": "stdout",
          "text": [
            "[1, 2, 2, 3, 4, 5, 6, 7, 8, 9, 10]\n"
          ]
        }
      ]
    },
    {
      "cell_type": "code",
      "source": [
        "#4 Write a Python program to reverse the order of the items in the array.Original array: numbers = [5, 4, 3, 2, 1]\n",
        "\n",
        "numbers = [5, 4, 3, 2, 1]\n",
        "numbers.reverse()\n",
        "print (numbers)"
      ],
      "metadata": {
        "colab": {
          "base_uri": "https://localhost:8080/"
        },
        "id": "nyIL3_K2LebY",
        "outputId": "4d0f125d-92be-41e4-a7fb-3c58a39442fb"
      },
      "execution_count": null,
      "outputs": [
        {
          "output_type": "stream",
          "name": "stdout",
          "text": [
            "[1, 2, 3, 4, 5]\n"
          ]
        }
      ]
    },
    {
      "cell_type": "code",
      "source": [
        "#5 Write a Python program to get the length of the array. Original array: numbers = [5, 4, 3, 2, 1]\n",
        "\n",
        "numbers = [5, 4, 3, 2, 1]\n",
        "print(len(numbers))"
      ],
      "metadata": {
        "colab": {
          "base_uri": "https://localhost:8080/"
        },
        "id": "7CqkkofDLgdx",
        "outputId": "76fb189d-d8d8-4ac5-d652-014d2bca1130"
      },
      "execution_count": 24,
      "outputs": [
        {
          "output_type": "stream",
          "name": "stdout",
          "text": [
            "5\n"
          ]
        }
      ]
    }
  ]
}