{
  "nbformat": 4,
  "nbformat_minor": 0,
  "metadata": {
    "colab": {
      "name": "Practical Lab Exam.ipynb",
      "provenance": [],
      "authorship_tag": "ABX9TyOyR4s8VRCZq1Ivpguf5Ejb",
      "include_colab_link": true
    },
    "kernelspec": {
      "name": "python3",
      "display_name": "Python 3"
    },
    "language_info": {
      "name": "python"
    }
  },
  "cells": [
    {
      "cell_type": "markdown",
      "metadata": {
        "id": "view-in-github",
        "colab_type": "text"
      },
      "source": [
        "<a href=\"https://colab.research.google.com/github/DJ2123/DSA-58010/blob/main/Practical_Lab_Exam.ipynb\" target=\"_parent\"><img src=\"https://colab.research.google.com/assets/colab-badge.svg\" alt=\"Open In Colab\"/></a>"
      ]
    },
    {
      "cell_type": "code",
      "execution_count": 13,
      "metadata": {
        "colab": {
          "base_uri": "https://localhost:8080/"
        },
        "id": "KCcHsrs89r2O",
        "outputId": "6601822b-4d23-4522-ab6a-5fea50429180"
      },
      "outputs": [
        {
          "output_type": "stream",
          "name": "stdout",
          "text": [
            "26\n",
            "124\n",
            "186\n"
          ]
        }
      ],
      "source": [
        "scores = [26, 49, 98,87,62,75]\n",
        "sum = 0\n",
        "for x in scores:\n",
        "  if x % 2 == 0:\n",
        "    sum +=x\n",
        "    print(sum)"
      ]
    }
  ]
}