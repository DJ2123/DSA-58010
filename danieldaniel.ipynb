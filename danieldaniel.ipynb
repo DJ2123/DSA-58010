{
  "nbformat": 4,
  "nbformat_minor": 0,
  "metadata": {
    "colab": {
      "provenance": [],
      "authorship_tag": "ABX9TyMtG4R+hAptZREk2TeQjEe1",
      "include_colab_link": true
    },
    "kernelspec": {
      "name": "python3",
      "display_name": "Python 3"
    },
    "language_info": {
      "name": "python"
    }
  },
  "cells": [
    {
      "cell_type": "markdown",
      "metadata": {
        "id": "view-in-github",
        "colab_type": "text"
      },
      "source": [
        "<a href=\"https://colab.research.google.com/github/DJ2123/DSA-58010/blob/main/danieldaniel.ipynb\" target=\"_parent\"><img src=\"https://colab.research.google.com/assets/colab-badge.svg\" alt=\"Open In Colab\"/></a>"
      ]
    },
    {
      "cell_type": "code",
      "execution_count": null,
      "metadata": {
        "id": "VB1VMgGPL3g4"
      },
      "outputs": [],
      "source": [
        "from tkinter import *\n",
        "from PIL import ImageTk,Image\n",
        "import tkinter as tk\n",
        "import pandas as pd\n",
        "import mysql.connector\n",
        "\n",
        "mydb = mysql.connector.connect(\n",
        "    host = \"localhost\",\n",
        "    user = \"root\",\n",
        "    passwd = \"myPhone\",\n",
        "    database = \"Phonebook\"\n",
        ")\n",
        "\n",
        "def submitact():\n",
        "     \n",
        "    user = usertxtbox.get()\n",
        "    passwd = pwdtxtbox.get()\n",
        "  \n",
        "    login(user, passwd)\n",
        "\n",
        "\n",
        "\n",
        "def login(user,passwd):\n",
        "\n",
        "     if passwd:\n",
        "        db = mysql.connector.connect(host =\"localhost\",\n",
        "                                     user = user,\n",
        "                                     password = passwd,\n",
        "                                     database =\"Phonebook\")\n",
        "        cursor = db.cursor()\n",
        "        root.configure(bg='green')\n",
        "\n",
        "     else:\n",
        "        db = mysql.connector.connect(host =\"localhost\",\n",
        "                                     user = user,\n",
        "                                     database=\"Phonebook\")\n",
        "        cursor = db.cursor()\n",
        "\n",
        "root=Tk()\n",
        "root.title('Group 7')\n",
        "root.geometry(\"750x750\")\n",
        "root.configure(bg='gainsboro')\n",
        "root.maxsize(750, 750)\n",
        "\n",
        "\n",
        "left_frame  =  Frame(root,  width=250,  height=700,  bg='#6C757D')\n",
        "left_frame.place(x=100, y=50)\n",
        "\n",
        "right_frame  =  Frame(root,  width=300, height=700,  bg='white')\n",
        "right_frame.place(x=350, y=50)\n",
        "\n",
        "welcomelbl=tk.Label(root, text=\"WELCOME\", font=(\"Yu Gothic UI SEMIBOLD\",20), bg='#CED4DA')\n",
        "welcomelbl.place(x=425,y=100) \n",
        "\n",
        "userlbl=tk.Label(root, text=\"Username:\", font=(\"Yu Gothic UI\",14), fg='black', bg='white')\n",
        "userlbl.place(x=396, y=225)\n",
        "usertxtbox=tk.Entry(root, font=(14), bg='gainsboro', width=20)\n",
        "usertxtbox.place(x=400, y=275)\n",
        "\n",
        "pwdlbl=tk.Label(root, text=\"Password:\",font=(\"Yu Gothic UI\",14), fg='black', bg='white')\n",
        "pwdlbl.place(x=396, y = 325)\n",
        "pwdtxtbox=tk.Entry(root, show=\"*\", font=(14), bg='gainsboro', width=20)\n",
        "pwdtxtbox.place(x=400, y = 375)\n",
        "\n",
        "loginbtn=tk.Button(root, text=\"Login\",bg='#CED4DA')\n",
        "loginbtn.place(x=400, y = 425, width = 185)\n",
        "\n",
        "\n",
        "\n",
        "root.mainloop()"
      ]
    }
  ]
}