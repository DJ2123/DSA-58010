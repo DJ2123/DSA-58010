{
  "nbformat": 4,
  "nbformat_minor": 0,
  "metadata": {
    "colab": {
      "name": "Pre-Test.ipynb",
      "provenance": [],
      "collapsed_sections": [],
      "authorship_tag": "ABX9TyPKHxqNEqnqBabErBnlgRWe",
      "include_colab_link": true
    },
    "kernelspec": {
      "name": "python3",
      "display_name": "Python 3"
    },
    "language_info": {
      "name": "python"
    }
  },
  "cells": [
    {
      "cell_type": "markdown",
      "metadata": {
        "id": "view-in-github",
        "colab_type": "text"
      },
      "source": [
        "<a href=\"https://colab.research.google.com/github/DJ2123/DSA-58010/blob/main/Pre_Test.ipynb\" target=\"_parent\"><img src=\"https://colab.research.google.com/assets/colab-badge.svg\" alt=\"Open In Colab\"/></a>"
      ]
    },
    {
      "cell_type": "code",
      "execution_count": 19,
      "metadata": {
        "colab": {
          "base_uri": "https://localhost:8080/"
        },
        "id": "lrWp1hpo-xTT",
        "outputId": "42e2c89a-5cbc-4344-9d0d-29cfac50a927"
      },
      "outputs": [
        {
          "output_type": "stream",
          "name": "stdout",
          "text": [
            "16\n",
            "21\n",
            "16\n",
            "20\n"
          ]
        }
      ],
      "source": [
        "class Shape: #parent class, this class has a pass operator because it has no practical use in the sample code, therefore it is most optimal for the functions to have a null operator\n",
        "\n",
        "  def Area(self):\n",
        "    pass\n",
        "  def Perimeter(Self):\n",
        "    pass\n",
        "\n",
        "class Rectangle: #polymorphism, this class uses the same named functions but has different operators for it \n",
        "  def __init__(self,side1,side2):\n",
        "    self.side1 = side1\n",
        "    self.side2 = side2\n",
        "  def Area(self):\n",
        "    print(self.side1*self.side2)\n",
        "  def Perimeter(self):\n",
        "    print(2*(self.side1+self.side2))\n",
        "\n",
        "class Square(Shape): #child class , the class named square inherited shape's functions\n",
        "  def __init__(self,side):\n",
        "    self.side=side\n",
        "  def Area(self):\n",
        "    print(self.side**2)\n",
        "  def Perimeter(self):\n",
        "    print(self.side*4)\n",
        "\n",
        "square = Square(4)\n",
        "square.Area()\n",
        "\n",
        "rect=Rectangle(7,3)\n",
        "rect.Area()\n",
        "\n",
        "square.Perimeter()\n",
        "rect.Perimeter()\n"
      ]
    }
  ]
}