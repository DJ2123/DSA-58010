{
  "nbformat": 4,
  "nbformat_minor": 0,
  "metadata": {
    "colab": {
      "provenance": [],
      "authorship_tag": "ABX9TyN553zKo8wRW9urPsjpMMy1",
      "include_colab_link": true
    },
    "kernelspec": {
      "name": "python3",
      "display_name": "Python 3"
    },
    "language_info": {
      "name": "python"
    }
  },
  "cells": [
    {
      "cell_type": "markdown",
      "metadata": {
        "id": "view-in-github",
        "colab_type": "text"
      },
      "source": [
        "<a href=\"https://colab.research.google.com/github/DJ2123/DSA-58010/blob/main/LabAct2(C).ipynb\" target=\"_parent\"><img src=\"https://colab.research.google.com/assets/colab-badge.svg\" alt=\"Open In Colab\"/></a>"
      ]
    },
    {
      "cell_type": "code",
      "execution_count": null,
      "metadata": {
        "colab": {
          "base_uri": "https://localhost:8080/"
        },
        "id": "L8Yrhyc_KfJ3",
        "outputId": "5a87100a-9310-472a-d2fb-97e452dec93b"
      },
      "outputs": [
        {
          "output_type": "stream",
          "name": "stdout",
          "text": [
            "2\n",
            "12\n"
          ]
        }
      ],
      "source": [
        "def Min(value):\n",
        "  #Base condition\n",
        "  if len(value) == 0:                \n",
        "      return 0\n",
        "  #Final condition                \n",
        "  if len(value) == 1:                 \n",
        "      return value[0]\n",
        "  #Min function and the result of calling Min by removing one variable          \n",
        "  return min(value[0], Min(value[1:]))  \n",
        "def Max(value):\n",
        "  #Base condition\n",
        "  if len(value) == 0:                \n",
        "      return 0  \n",
        "  #Final condition              \n",
        "  if len(value) == 1:                 \n",
        "      return value[0]\n",
        "  #Max function and the result of calling Max by removing one variable         \n",
        "  return max(value[0], Max(value[1:]))  \n",
        "\n",
        "#value of arrays\n",
        "print(Min([2, 4, 6, 8, 10, 12])) \n",
        "print(Max([2, 4, 6, 8, 10, 12])) "
      ]
    }
  ]
}