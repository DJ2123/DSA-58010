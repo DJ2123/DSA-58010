{
  "nbformat": 4,
  "nbformat_minor": 0,
  "metadata": {
    "colab": {
      "provenance": [],
      "collapsed_sections": [],
      "authorship_tag": "ABX9TyPuAfd3m2mLIA7aN2JFSVOp",
      "include_colab_link": true
    },
    "kernelspec": {
      "name": "python3",
      "display_name": "Python 3"
    },
    "language_info": {
      "name": "python"
    }
  },
  "cells": [
    {
      "cell_type": "markdown",
      "metadata": {
        "id": "view-in-github",
        "colab_type": "text"
      },
      "source": [
        "<a href=\"https://colab.research.google.com/github/DJ2123/DSA-58010/blob/main/Long_Quiz_1.ipynb\" target=\"_parent\"><img src=\"https://colab.research.google.com/assets/colab-badge.svg\" alt=\"Open In Colab\"/></a>"
      ]
    },
    {
      "cell_type": "code",
      "execution_count": 16,
      "metadata": {
        "colab": {
          "base_uri": "https://localhost:8080/"
        },
        "id": "itrQNTgbdflu",
        "outputId": "044f9b42-164c-4c31-9d1b-8e58c21cded3"
      },
      "outputs": [
        {
          "output_type": "stream",
          "name": "stdout",
          "text": [
            "['D', 'A', 'N', 'I', 'E', 'L', 'J', 'O', 'S', 'E', 'P', 'H', 'M.', 'V', 'I', 'R', 'A', 'Y']\n",
            "['Y', 'A', 'R', 'I', 'V', 'M.', 'H', 'P', 'E', 'S', 'O', 'J', 'L', 'E', 'I', 'N', 'A', 'D']\n"
          ]
        }
      ],
      "source": [
        "fullname=[]\n",
        "fullname.append(\"D\")\n",
        "fullname.append(\"A\")\n",
        "fullname.append(\"N\")\n",
        "fullname.append(\"I\")\n",
        "fullname.append(\"E\")\n",
        "fullname.append(\"L\")\n",
        "fullname.append(\"J\")\n",
        "fullname.append(\"O\")\n",
        "fullname.append(\"S\")\n",
        "fullname.append(\"E\")\n",
        "fullname.append(\"P\")\n",
        "fullname.append(\"H\")\n",
        "fullname.append(\"M.\")\n",
        "fullname.append(\"V\")\n",
        "fullname.append(\"I\")\n",
        "fullname.append(\"R\")\n",
        "fullname.append(\"A\")\n",
        "fullname.append(\"Y\")\n",
        "print(fullname)\n",
        "fullname.reverse()\n",
        "print(fullname)"
      ]
    }
  ]
}